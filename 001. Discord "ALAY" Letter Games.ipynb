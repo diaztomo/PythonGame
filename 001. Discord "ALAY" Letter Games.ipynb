{
 "cells": [
  {
   "cell_type": "code",
   "execution_count": 12,
   "id": "9c77b81f",
   "metadata": {},
   "outputs": [
    {
     "name": "stdout",
     "output_type": "stream",
     "text": [
      "98\n",
      "||9||||8||\n"
     ]
    }
   ],
   "source": [
    "a = input()\n",
    "b = ''\n",
    "for i in a:\n",
    "    b = b+\"||\"+i+\"||\"\n",
    "print(b)"
   ]
  },
  {
   "cell_type": "code",
   "execution_count": 24,
   "id": "0cf1156f",
   "metadata": {},
   "outputs": [
    {
     "name": "stdout",
     "output_type": "stream",
     "text": [
      "masa sih,kemarin gw nggak begitu\n",
      "mAsA siH,KemARiN Gw NGGAK beGitU\n"
     ]
    }
   ],
   "source": [
    "lista = \"qwertyuiopasdfghjklzxcvbnm\"\n",
    "listA = \"QWERTYUIOPASDFGHJKLZXCVBNM\"\n",
    "a = input()\n",
    "b = ''\n",
    "for i in a:\n",
    "    if a.find(i)%2 :\n",
    "        b+=listA[lista.find(i)]\n",
    "    else:\n",
    "        b+= i\n",
    "print(b)\n",
    "\n",
    "\n"
   ]
  },
  {
   "cell_type": "code",
   "execution_count": null,
   "id": "9fcb721d",
   "metadata": {},
   "outputs": [],
   "source": [
    "dicta = {a:4,}"
   ]
  }
 ],
 "metadata": {
  "kernelspec": {
   "display_name": "Python 3",
   "language": "python",
   "name": "python3"
  },
  "language_info": {
   "codemirror_mode": {
    "name": "ipython",
    "version": 3
   },
   "file_extension": ".py",
   "mimetype": "text/x-python",
   "name": "python",
   "nbconvert_exporter": "python",
   "pygments_lexer": "ipython3",
   "version": "3.8.8"
  }
 },
 "nbformat": 4,
 "nbformat_minor": 5
}
